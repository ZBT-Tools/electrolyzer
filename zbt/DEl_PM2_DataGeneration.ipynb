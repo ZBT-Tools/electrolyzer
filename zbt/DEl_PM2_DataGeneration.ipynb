{
 "cells": [
  {
   "cell_type": "markdown",
   "id": "0ad2c610-1fb8-4570-845b-3b9ce8ecf638",
   "metadata": {},
   "source": [
    "# Generation of transient degradation data\n",
    "\n",
    "by using stationary performance data (PM1) & and continuous degradation models\n",
    "\n",
    " - steady degradation\n",
    " - fatigue degradation (load change)\n",
    " - \n",
    "\n",
    "\n",
    "FKL"
   ]
  },
  {
   "cell_type": "code",
   "execution_count": 1,
   "id": "aed1ba15-c492-47bc-85c7-a64e70b3f5c8",
   "metadata": {},
   "outputs": [],
   "source": [
    "from electrolyzer import Stack, Supervisor, run_electrolyzer_zbt\n",
    "import numpy as np\n",
    "import matplotlib.pyplot as plt\n",
    "import matplotlib.cm as cm # matplotlib's color map library\n",
    "import matplotlib as mpl\n",
    "import electrolyzer.inputs.validation as val\n",
    "import plotly.graph_objects as go; import numpy as np\n",
    "from plotly_resampler import FigureResampler, FigureWidgetResampler\n",
    "import pandas as pd\n",
    "import math"
   ]
  },
  {
   "cell_type": "markdown",
   "id": "51fe9525-0583-4edf-9454-f9925c58b1e6",
   "metadata": {},
   "source": [
    "## Stack definition & initialization"
   ]
  },
  {
   "cell_type": "code",
   "execution_count": 2,
   "id": "79e7b1a5-4f78-49eb-8eba-f82790148d04",
   "metadata": {},
   "outputs": [],
   "source": [
    "# n_cells = 100  # number of cells in stack\n",
    "# cell_area = 1000  # cell area, cm^2\n",
    "\n",
    "# max_current = 2000 # current A, required for initialization.\n",
    "# temperature = 60  # temperature degC, required for initialization.\n",
    "\n",
    "# fname_input_modeling = \"./DEl_PM2_modeling_options.yaml\"\n",
    "\n",
    "# stack_dict = {\n",
    "#     \"n_cells\": n_cells,\n",
    "#     \"cell_area\": cell_area,\n",
    "#     \"temperature\": temperature,\n",
    "#     \"max_current\": max_current,\n",
    "#     \"dt\":1\n",
    "# }\n",
    "#elec = Stack.from_dict(stack_dict)#\n"
   ]
  },
  {
   "cell_type": "code",
   "execution_count": 3,
   "id": "60d65317-29ff-4620-a8d8-8f179cf46a3b",
   "metadata": {},
   "outputs": [],
   "source": [
    "# Initialize system\n",
    "fname_input_modeling = \"./DEl_PM2_modeling_options.yaml\"\n",
    "modeling_options = val.load_modeling_yaml(fname_input_modeling)\n",
    "elec_sys = Supervisor.from_dict(modeling_options[\"electrolyzer\"])\n",
    "elec = elec_sys.stacks[0]"
   ]
  },
  {
   "cell_type": "code",
   "execution_count": 4,
   "id": "53238d39-8840-4431-85e2-3885f2018e57",
   "metadata": {},
   "outputs": [
    {
     "data": {
      "text/plain": [
       "{'general': {'verbose': False},\n",
       " 'electrolyzer': {'dt': 1,\n",
       "  'stack': {'cell_area': 1000.0,\n",
       "   'max_current': 2000,\n",
       "   'temperature': 60,\n",
       "   'n_cells': 100,\n",
       "   'rate_fatigue': 0,\n",
       "   'include_degradation_penalty': True,\n",
       "   'dt': 1},\n",
       "  'control': {'n_stacks': 1, 'control_type': 'BaselineDeg'},\n",
       "  'name': 'electrolyzer_001',\n",
       "  'description': 'A PEM electrolyzer model',\n",
       "  'initialize': False,\n",
       "  'initial_power_kW': 0.0,\n",
       "  'costs': {}}}"
      ]
     },
     "execution_count": 4,
     "metadata": {},
     "output_type": "execute_result"
    }
   ],
   "source": [
    "modeling_options"
   ]
  },
  {
   "cell_type": "code",
   "execution_count": 5,
   "id": "06d5e6df-8308-4efb-abf5-9c9535bed7d9",
   "metadata": {},
   "outputs": [
    {
     "data": {
      "text/plain": [
       "0"
      ]
     },
     "execution_count": 5,
     "metadata": {},
     "output_type": "execute_result"
    }
   ],
   "source": [
    "elec_sys.stacks[0].rate_fatigue"
   ]
  },
  {
   "cell_type": "code",
   "execution_count": null,
   "id": "74d0714d-e3a9-45f9-b96f-21ab97f40f13",
   "metadata": {},
   "outputs": [],
   "source": []
  },
  {
   "cell_type": "code",
   "execution_count": null,
   "id": "070c4310-85a9-4d68-955f-06c17a68cb80",
   "metadata": {},
   "outputs": [],
   "source": []
  },
  {
   "cell_type": "markdown",
   "id": "bf49f370-4163-47e2-9c68-e6f9c019ad9a",
   "metadata": {},
   "source": [
    "## Steady State Performance Calculation"
   ]
  },
  {
   "cell_type": "code",
   "execution_count": null,
   "id": "927a1604-034f-4efa-aab1-8e5b64e997a3",
   "metadata": {},
   "outputs": [],
   "source": []
  },
  {
   "cell_type": "code",
   "execution_count": 6,
   "id": "e3cabfdb-e7fc-4d36-8794-9c6fa2697203",
   "metadata": {},
   "outputs": [
    {
     "data": {
      "text/html": [
       "<div>\n",
       "<style scoped>\n",
       "    .dataframe tbody tr th:only-of-type {\n",
       "        vertical-align: middle;\n",
       "    }\n",
       "\n",
       "    .dataframe tbody tr th {\n",
       "        vertical-align: top;\n",
       "    }\n",
       "\n",
       "    .dataframe thead th {\n",
       "        text-align: right;\n",
       "    }\n",
       "</style>\n",
       "<table border=\"1\" class=\"dataframe\">\n",
       "  <thead>\n",
       "    <tr style=\"text-align: right;\">\n",
       "      <th></th>\n",
       "      <th>current_A</th>\n",
       "      <th>power_kW</th>\n",
       "      <th>voltage_V</th>\n",
       "      <th>currentdens_Acm-2</th>\n",
       "      <th>cellvoltage_V</th>\n",
       "      <th>temp_C</th>\n",
       "    </tr>\n",
       "  </thead>\n",
       "  <tbody>\n",
       "    <tr>\n",
       "      <th>0</th>\n",
       "      <td>0</td>\n",
       "      <td>0.000000</td>\n",
       "      <td>122.787862</td>\n",
       "      <td>0.000</td>\n",
       "      <td>1.227879</td>\n",
       "      <td>40</td>\n",
       "    </tr>\n",
       "    <tr>\n",
       "      <th>1</th>\n",
       "      <td>1</td>\n",
       "      <td>0.135647</td>\n",
       "      <td>135.646741</td>\n",
       "      <td>0.001</td>\n",
       "      <td>1.356467</td>\n",
       "      <td>40</td>\n",
       "    </tr>\n",
       "    <tr>\n",
       "      <th>2</th>\n",
       "      <td>2</td>\n",
       "      <td>0.275750</td>\n",
       "      <td>137.874903</td>\n",
       "      <td>0.002</td>\n",
       "      <td>1.378749</td>\n",
       "      <td>40</td>\n",
       "    </tr>\n",
       "    <tr>\n",
       "      <th>3</th>\n",
       "      <td>3</td>\n",
       "      <td>0.418792</td>\n",
       "      <td>139.597198</td>\n",
       "      <td>0.003</td>\n",
       "      <td>1.395972</td>\n",
       "      <td>40</td>\n",
       "    </tr>\n",
       "    <tr>\n",
       "      <th>4</th>\n",
       "      <td>4</td>\n",
       "      <td>0.564130</td>\n",
       "      <td>141.032616</td>\n",
       "      <td>0.004</td>\n",
       "      <td>1.410326</td>\n",
       "      <td>40</td>\n",
       "    </tr>\n",
       "    <tr>\n",
       "      <th>...</th>\n",
       "      <td>...</td>\n",
       "      <td>...</td>\n",
       "      <td>...</td>\n",
       "      <td>...</td>\n",
       "      <td>...</td>\n",
       "      <td>...</td>\n",
       "    </tr>\n",
       "    <tr>\n",
       "      <th>1996</th>\n",
       "      <td>1996</td>\n",
       "      <td>451.767270</td>\n",
       "      <td>226.336308</td>\n",
       "      <td>1.996</td>\n",
       "      <td>2.263363</td>\n",
       "      <td>80</td>\n",
       "    </tr>\n",
       "    <tr>\n",
       "      <th>1997</th>\n",
       "      <td>1997</td>\n",
       "      <td>452.039517</td>\n",
       "      <td>226.359298</td>\n",
       "      <td>1.997</td>\n",
       "      <td>2.263593</td>\n",
       "      <td>80</td>\n",
       "    </tr>\n",
       "    <tr>\n",
       "      <th>1998</th>\n",
       "      <td>1998</td>\n",
       "      <td>452.311806</td>\n",
       "      <td>226.382286</td>\n",
       "      <td>1.998</td>\n",
       "      <td>2.263823</td>\n",
       "      <td>80</td>\n",
       "    </tr>\n",
       "    <tr>\n",
       "      <th>1999</th>\n",
       "      <td>1999</td>\n",
       "      <td>452.584138</td>\n",
       "      <td>226.405272</td>\n",
       "      <td>1.999</td>\n",
       "      <td>2.264053</td>\n",
       "      <td>80</td>\n",
       "    </tr>\n",
       "    <tr>\n",
       "      <th>2000</th>\n",
       "      <td>2000</td>\n",
       "      <td>452.856511</td>\n",
       "      <td>226.428256</td>\n",
       "      <td>2.000</td>\n",
       "      <td>2.264283</td>\n",
       "      <td>80</td>\n",
       "    </tr>\n",
       "  </tbody>\n",
       "</table>\n",
       "<p>42021 rows × 6 columns</p>\n",
       "</div>"
      ],
      "text/plain": [
       "      current_A    power_kW   voltage_V  currentdens_Acm-2  cellvoltage_V  \\\n",
       "0             0    0.000000  122.787862              0.000       1.227879   \n",
       "1             1    0.135647  135.646741              0.001       1.356467   \n",
       "2             2    0.275750  137.874903              0.002       1.378749   \n",
       "3             3    0.418792  139.597198              0.003       1.395972   \n",
       "4             4    0.564130  141.032616              0.004       1.410326   \n",
       "...         ...         ...         ...                ...            ...   \n",
       "1996       1996  451.767270  226.336308              1.996       2.263363   \n",
       "1997       1997  452.039517  226.359298              1.997       2.263593   \n",
       "1998       1998  452.311806  226.382286              1.998       2.263823   \n",
       "1999       1999  452.584138  226.405272              1.999       2.264053   \n",
       "2000       2000  452.856511  226.428256              2.000       2.264283   \n",
       "\n",
       "      temp_C  \n",
       "0         40  \n",
       "1         40  \n",
       "2         40  \n",
       "3         40  \n",
       "4         40  \n",
       "...      ...  \n",
       "1996      80  \n",
       "1997      80  \n",
       "1998      80  \n",
       "1999      80  \n",
       "2000      80  \n",
       "\n",
       "[42021 rows x 6 columns]"
      ]
     },
     "execution_count": 6,
     "metadata": {},
     "output_type": "execute_result"
    }
   ],
   "source": [
    "stack_data = elec.create_polarization_data(current_interval=1,\n",
    "                                          temp_min=40,\n",
    "                                          temp_max=80,\n",
    "                                          temp_interval=2)\n",
    "stack_data"
   ]
  },
  {
   "cell_type": "code",
   "execution_count": null,
   "id": "caa7c4d8-d48b-4f97-8d2e-e809d9ef8868",
   "metadata": {},
   "outputs": [],
   "source": []
  },
  {
   "cell_type": "code",
   "execution_count": 7,
   "id": "6da4e2a3-e595-4300-aef6-486fee9f2348",
   "metadata": {},
   "outputs": [],
   "source": [
    "# stack_data.to_pickle(\"CM1_data.pkl\")"
   ]
  },
  {
   "cell_type": "markdown",
   "id": "c2e284a9-dcf0-4ce0-9edd-5b4e642dadd6",
   "metadata": {},
   "source": [
    "### Plotting"
   ]
  },
  {
   "cell_type": "code",
   "execution_count": 8,
   "id": "e6f98139-12ff-4ef3-8c6e-e06aeb5e97ca",
   "metadata": {},
   "outputs": [
    {
     "data": {
      "text/plain": [
       "temp_C\n",
       "40    Axes(0.125,0.11;0.775x0.77)\n",
       "42    Axes(0.125,0.11;0.775x0.77)\n",
       "44    Axes(0.125,0.11;0.775x0.77)\n",
       "46    Axes(0.125,0.11;0.775x0.77)\n",
       "48    Axes(0.125,0.11;0.775x0.77)\n",
       "50    Axes(0.125,0.11;0.775x0.77)\n",
       "52    Axes(0.125,0.11;0.775x0.77)\n",
       "54    Axes(0.125,0.11;0.775x0.77)\n",
       "56    Axes(0.125,0.11;0.775x0.77)\n",
       "58    Axes(0.125,0.11;0.775x0.77)\n",
       "60    Axes(0.125,0.11;0.775x0.77)\n",
       "62    Axes(0.125,0.11;0.775x0.77)\n",
       "64    Axes(0.125,0.11;0.775x0.77)\n",
       "66    Axes(0.125,0.11;0.775x0.77)\n",
       "68    Axes(0.125,0.11;0.775x0.77)\n",
       "70    Axes(0.125,0.11;0.775x0.77)\n",
       "72    Axes(0.125,0.11;0.775x0.77)\n",
       "74    Axes(0.125,0.11;0.775x0.77)\n",
       "76    Axes(0.125,0.11;0.775x0.77)\n",
       "78    Axes(0.125,0.11;0.775x0.77)\n",
       "80    Axes(0.125,0.11;0.775x0.77)\n",
       "Name: cellvoltage_V, dtype: object"
      ]
     },
     "execution_count": 8,
     "metadata": {},
     "output_type": "execute_result"
    },
    {
     "data": {
      "image/png": "[encoded data removed]",
      "text/plain": [
       "<Figure size 640x480 with 1 Axes>"
      ]
     },
     "metadata": {},
     "output_type": "display_data"
    }
   ],
   "source": [
    "pltdf = stack_data.set_index('currentdens_Acm-2')\n",
    "pltdf.groupby('temp_C')['cellvoltage_V'].plot(legend=True)"
   ]
  },
  {
   "cell_type": "code",
   "execution_count": 9,
   "id": "ba400751-b708-4e87-a4b4-84e622bfa52b",
   "metadata": {},
   "outputs": [],
   "source": [
    "# https://alexmiller.phd/posts/contour-plots-in-python-matplotlib-x-y-z/\n",
    "Z = stack_data.pivot_table(index='currentdens_Acm-2', columns='temp_C', values='cellvoltage_V').T.values\n",
    "X_unique = np.sort(stack_data['currentdens_Acm-2'].unique())\n",
    "Y_unique = np.sort(stack_data['temp_C'].unique())\n",
    "X, Y = np.meshgrid(X_unique, Y_unique)"
   ]
  },
  {
   "cell_type": "code",
   "execution_count": 10,
   "id": "2febc898-29a9-473b-806b-3a700550abf4",
   "metadata": {},
   "outputs": [
    {
     "data": {
      "text/plain": [
       "Text(0, 0.5, 'temp_C')"
      ]
     },
     "execution_count": 10,
     "metadata": {},
     "output_type": "execute_result"
    },
    {
     "data": {
      "image/png": "[encoded data removed]",
      "text/plain": [
       "<Figure size 1000x500 with 1 Axes>"
      ]
     },
     "metadata": {},
     "output_type": "display_data"
    }
   ],
   "source": [
    "# Initialize plot objects\n",
    "mpl.rcParams['figure.figsize'] = 10, 5 # sets plot size\n",
    "fig = plt.figure()\n",
    "ax = fig.add_subplot(111)\n",
    "\n",
    "# Define levels in z-axis where we want lines to appear\n",
    "#levels = np.array([-0.4,-0.2,0,0.2,0.4])\n",
    "# Generate a color mapping of the levels we've specified\n",
    "cpf = ax.contourf(X,Y,Z,100, cmap=cm.Reds)\n",
    "\n",
    "# Set all level lines to black\n",
    "line_colors = ['black' for l in cpf.levels]\n",
    "\n",
    "# Make plot and customize axes\n",
    "cp = ax.contour(X, Y, Z, colors=line_colors) # , levels=levels,\n",
    "ax.clabel(cp, fontsize=10, colors=line_colors)\n",
    "#plt.xticks([0,0.5,1])\n",
    "#plt.yticks([0,0.5,1])\n",
    "ax.set_xlabel('currentdens_Acm-2')\n",
    "ax.set_ylabel('temp_C')\n",
    "#plt.savefig('figure.pdf') # uncomment to save vector/high-res version"
   ]
  },
  {
   "cell_type": "code",
   "execution_count": null,
   "id": "37e2dc02-d957-469d-9a4e-ab84c5448c10",
   "metadata": {},
   "outputs": [],
   "source": []
  },
  {
   "cell_type": "markdown",
   "id": "08e8cca1-fd37-43e8-a8af-a05fc54a2fbc",
   "metadata": {},
   "source": [
    "## Transient Performance Calculation"
   ]
  },
  {
   "cell_type": "markdown",
   "id": "753bc60b-9855-4fbe-a27f-df9cca273c65",
   "metadata": {},
   "source": [
    "### Test signals"
   ]
  },
  {
   "cell_type": "code",
   "execution_count": 11,
   "id": "766e6280-f08f-4975-86fb-80219f078217",
   "metadata": {},
   "outputs": [
    {
     "name": "stdout",
     "output_type": "stream",
     "text": [
      "46660.87847588875\n",
      "466608.7847588875\n"
     ]
    }
   ],
   "source": [
    "p_min= elec.min_power\n",
    "print(p_min)\n",
    "p_max = elec.stack_rating\n",
    "print(p_max)"
   ]
  },
  {
   "cell_type": "code",
   "execution_count": 12,
   "id": "f1393ebf-950f-40ca-9eb9-7beff44105d1",
   "metadata": {},
   "outputs": [],
   "source": [
    "# Constant operation\n",
    "time_h = 100\n",
    "p_rel = 1 \n",
    "power_signal = [p_max * p_rel] * time_h * 3600\n"
   ]
  },
  {
   "cell_type": "code",
   "execution_count": 13,
   "id": "732b8dff-7dfb-40af-a989-8a99bdc4b4fd",
   "metadata": {},
   "outputs": [],
   "source": [
    "result_df_list =[]\n",
    "power_signals = {}\n",
    "# Constant Operation\n",
    "for p_rel in [0.2,0.3,0.4,0.5,0.6,0.7,0.8,0.9,1]: \n",
    "    power_signals[f\"const prel {p_rel}\"] = [p_max * p_rel] * time_h * 3600\n",
    "# Periodic Operation\n",
    "for period_min in [0.5,1,5,10]:\n",
    "    power_signals[f\"periodic {period_min}min\"]=  [(p_max + p_min) / 2 + math.sin(t/(period_min * 60) * 2 * math.pi) * (p_max - p_min) / 2 for t in range(time_h * 3600)]"
   ]
  },
  {
   "cell_type": "code",
   "execution_count": 14,
   "id": "edfd3a78-f194-4469-91bb-5f259436c8bb",
   "metadata": {},
   "outputs": [],
   "source": [
    "# [p_min + math.sin(t/60 * 2 * math.pi) * (p_max - p_min) for t in range(time_h * 3600)]\n",
    "\n",
    "# fig = FigureResampler(go.Figure())\n",
    "# fig.add_trace(go.Scattergl(name=f'{n}', showlegend=True), hf_x=[t for t in range(time_h * 3600)], hf_y=[p_min + math.sin(t/60 * 2 * math.pi) * (p_max - p_min) for t in range(time_h * 3600)])\n",
    "\n",
    "# fig.show_dash(mode='inline')"
   ]
  },
  {
   "cell_type": "code",
   "execution_count": null,
   "id": "2cf58df4-3979-4059-aa73-f7edf5b1b12b",
   "metadata": {},
   "outputs": [],
   "source": []
  },
  {
   "cell_type": "code",
   "execution_count": null,
   "id": "901180bd-2bba-473d-8115-0b4602cdad85",
   "metadata": {},
   "outputs": [],
   "source": []
  },
  {
   "cell_type": "code",
   "execution_count": 15,
   "id": "6783f1b5-0ad7-4108-a434-3b8a0415bad6",
   "metadata": {},
   "outputs": [
    {
     "data": {
      "text/plain": [
       "dict_keys(['const prel 0.2', 'const prel 0.3', 'const prel 0.4', 'const prel 0.5', 'const prel 0.6', 'const prel 0.7', 'const prel 0.8', 'const prel 0.9', 'const prel 1', 'periodic 0.5min', 'periodic 1min', 'periodic 5min', 'periodic 10min'])"
      ]
     },
     "execution_count": 15,
     "metadata": {},
     "output_type": "execute_result"
    }
   ],
   "source": [
    "power_signals.keys()"
   ]
  },
  {
   "cell_type": "code",
   "execution_count": 16,
   "id": "dcd0ad09-3a56-4e32-b693-103f6f4e7f4f",
   "metadata": {},
   "outputs": [
    {
     "name": "stdout",
     "output_type": "stream",
     "text": [
      "const prel 0.2  Calculation...\n",
      "const prel 0.3  Calculation...\n",
      "const prel 0.4  Calculation...\n",
      "const prel 0.5  Calculation...\n",
      "const prel 0.6  Calculation...\n",
      "const prel 0.7  Calculation...\n",
      "const prel 0.8  Calculation...\n",
      "const prel 0.9  Calculation...\n",
      "const prel 1  Calculation...\n",
      "periodic 0.5min  Calculation...\n",
      "periodic 1min  Calculation...\n",
      "periodic 5min  Calculation...\n",
      "periodic 10min  Calculation...\n"
     ]
    }
   ],
   "source": [
    "for n, ps in power_signals.items():\n",
    "    print(n,\" Calculation...\") \n",
    "    elec_sys, single_result_df = run_electrolyzer_zbt(fname_input_modeling, ps)\n",
    "    single_result_df[\"name\"]=n\n",
    "    result_df_list.append(single_result_df)\n",
    "    \n",
    "result_df = pd.concat(result_df_list, axis=0, ignore_index=True)"
   ]
  },
  {
   "cell_type": "code",
   "execution_count": null,
   "id": "dd98bcfb-e0da-4668-8cfe-67c9ec1bc9f4",
   "metadata": {},
   "outputs": [],
   "source": []
  },
  {
   "cell_type": "code",
   "execution_count": 17,
   "id": "94e070d2-b2e2-482f-950e-82fc24c2407f",
   "metadata": {},
   "outputs": [],
   "source": [
    "result_df.loc[:,[\"time_h\",\"stack_1_deg\",\"stack_1_curr_density\"]].to_pickle(\"CM2_data.pkl\")"
   ]
  },
  {
   "cell_type": "code",
   "execution_count": 18,
   "id": "7f6a50ef-b792-4029-9c11-005943f93bcd",
   "metadata": {},
   "outputs": [
    {
     "data": {
      "text/html": [
       "<div>\n",
       "<style scoped>\n",
       "    .dataframe tbody tr th:only-of-type {\n",
       "        vertical-align: middle;\n",
       "    }\n",
       "\n",
       "    .dataframe tbody tr th {\n",
       "        vertical-align: top;\n",
       "    }\n",
       "\n",
       "    .dataframe thead th {\n",
       "        text-align: right;\n",
       "    }\n",
       "</style>\n",
       "<table border=\"1\" class=\"dataframe\">\n",
       "  <thead>\n",
       "    <tr style=\"text-align: right;\">\n",
       "      <th></th>\n",
       "      <th>time_h</th>\n",
       "      <th>power_signal</th>\n",
       "      <th>curtailment</th>\n",
       "      <th>kg_rate</th>\n",
       "      <th>stack_1_deg</th>\n",
       "      <th>stack_1_deg_steady</th>\n",
       "      <th>stack_1_deg_fatigue</th>\n",
       "      <th>stack_1_deg_onoff</th>\n",
       "      <th>stack_1_fatigue</th>\n",
       "      <th>stack_1_cycles</th>\n",
       "      <th>stack_1_uptime</th>\n",
       "      <th>stack_1_kg_rate</th>\n",
       "      <th>stack_1_curr_density</th>\n",
       "      <th>stack_1_cell_voltage</th>\n",
       "      <th>stack_1_cell_voltage_no_degrad</th>\n",
       "      <th>name</th>\n",
       "    </tr>\n",
       "  </thead>\n",
       "  <tbody>\n",
       "    <tr>\n",
       "      <th>0</th>\n",
       "      <td>0.000000</td>\n",
       "      <td>93321.756952</td>\n",
       "      <td>0.0</td>\n",
       "      <td>0.000000</td>\n",
       "      <td>0.000000e+00</td>\n",
       "      <td>0.000000e+00</td>\n",
       "      <td>0.0</td>\n",
       "      <td>0.0</td>\n",
       "      <td>0.0</td>\n",
       "      <td>0.0</td>\n",
       "      <td>1.0</td>\n",
       "      <td>0.000000</td>\n",
       "      <td>0.490693</td>\n",
       "      <td>1.869690</td>\n",
       "      <td>1.869690</td>\n",
       "      <td>const prel 0.2</td>\n",
       "    </tr>\n",
       "    <tr>\n",
       "      <th>1</th>\n",
       "      <td>0.000278</td>\n",
       "      <td>93321.756952</td>\n",
       "      <td>0.0</td>\n",
       "      <td>0.000000</td>\n",
       "      <td>2.650061e-10</td>\n",
       "      <td>2.650061e-10</td>\n",
       "      <td>0.0</td>\n",
       "      <td>0.0</td>\n",
       "      <td>0.0</td>\n",
       "      <td>0.0</td>\n",
       "      <td>2.0</td>\n",
       "      <td>0.000000</td>\n",
       "      <td>0.490693</td>\n",
       "      <td>1.869690</td>\n",
       "      <td>1.869690</td>\n",
       "      <td>const prel 0.2</td>\n",
       "    </tr>\n",
       "    <tr>\n",
       "      <th>2</th>\n",
       "      <td>0.000556</td>\n",
       "      <td>93321.756952</td>\n",
       "      <td>0.0</td>\n",
       "      <td>0.000000</td>\n",
       "      <td>5.300121e-10</td>\n",
       "      <td>5.300121e-10</td>\n",
       "      <td>0.0</td>\n",
       "      <td>0.0</td>\n",
       "      <td>0.0</td>\n",
       "      <td>0.0</td>\n",
       "      <td>3.0</td>\n",
       "      <td>0.000000</td>\n",
       "      <td>0.490693</td>\n",
       "      <td>1.869690</td>\n",
       "      <td>1.869690</td>\n",
       "      <td>const prel 0.2</td>\n",
       "    </tr>\n",
       "    <tr>\n",
       "      <th>3</th>\n",
       "      <td>0.000833</td>\n",
       "      <td>93321.756952</td>\n",
       "      <td>0.0</td>\n",
       "      <td>0.000000</td>\n",
       "      <td>7.950182e-10</td>\n",
       "      <td>7.950182e-10</td>\n",
       "      <td>0.0</td>\n",
       "      <td>0.0</td>\n",
       "      <td>0.0</td>\n",
       "      <td>0.0</td>\n",
       "      <td>4.0</td>\n",
       "      <td>0.000000</td>\n",
       "      <td>0.490693</td>\n",
       "      <td>1.869690</td>\n",
       "      <td>1.869690</td>\n",
       "      <td>const prel 0.2</td>\n",
       "    </tr>\n",
       "    <tr>\n",
       "      <th>4</th>\n",
       "      <td>0.001111</td>\n",
       "      <td>93321.756952</td>\n",
       "      <td>0.0</td>\n",
       "      <td>0.000000</td>\n",
       "      <td>1.060024e-09</td>\n",
       "      <td>1.060024e-09</td>\n",
       "      <td>0.0</td>\n",
       "      <td>0.0</td>\n",
       "      <td>0.0</td>\n",
       "      <td>0.0</td>\n",
       "      <td>5.0</td>\n",
       "      <td>0.000000</td>\n",
       "      <td>0.490693</td>\n",
       "      <td>1.869690</td>\n",
       "      <td>1.869690</td>\n",
       "      <td>const prel 0.2</td>\n",
       "    </tr>\n",
       "    <tr>\n",
       "      <th>...</th>\n",
       "      <td>...</td>\n",
       "      <td>...</td>\n",
       "      <td>...</td>\n",
       "      <td>...</td>\n",
       "      <td>...</td>\n",
       "      <td>...</td>\n",
       "      <td>...</td>\n",
       "      <td>...</td>\n",
       "      <td>...</td>\n",
       "      <td>...</td>\n",
       "      <td>...</td>\n",
       "      <td>...</td>\n",
       "      <td>...</td>\n",
       "      <td>...</td>\n",
       "      <td>...</td>\n",
       "      <td>...</td>\n",
       "    </tr>\n",
       "    <tr>\n",
       "      <th>4679995</th>\n",
       "      <td>99.998611</td>\n",
       "      <td>245645.643994</td>\n",
       "      <td>0.0</td>\n",
       "      <td>0.001096</td>\n",
       "      <td>1.062492e-04</td>\n",
       "      <td>1.062492e-04</td>\n",
       "      <td>0.0</td>\n",
       "      <td>0.0</td>\n",
       "      <td>0.0</td>\n",
       "      <td>0.0</td>\n",
       "      <td>359996.0</td>\n",
       "      <td>0.001096</td>\n",
       "      <td>1.177146</td>\n",
       "      <td>2.097472</td>\n",
       "      <td>2.097366</td>\n",
       "      <td>periodic 10min</td>\n",
       "    </tr>\n",
       "    <tr>\n",
       "      <th>4679996</th>\n",
       "      <td>99.998889</td>\n",
       "      <td>247842.035063</td>\n",
       "      <td>0.0</td>\n",
       "      <td>0.001105</td>\n",
       "      <td>1.062495e-04</td>\n",
       "      <td>1.062495e-04</td>\n",
       "      <td>0.0</td>\n",
       "      <td>0.0</td>\n",
       "      <td>0.0</td>\n",
       "      <td>0.0</td>\n",
       "      <td>359997.0</td>\n",
       "      <td>0.001105</td>\n",
       "      <td>1.186270</td>\n",
       "      <td>2.100218</td>\n",
       "      <td>2.100112</td>\n",
       "      <td>periodic 10min</td>\n",
       "    </tr>\n",
       "    <tr>\n",
       "      <th>4679997</th>\n",
       "      <td>99.999167</td>\n",
       "      <td>250039.390363</td>\n",
       "      <td>0.0</td>\n",
       "      <td>0.001114</td>\n",
       "      <td>1.062497e-04</td>\n",
       "      <td>1.062497e-04</td>\n",
       "      <td>0.0</td>\n",
       "      <td>0.0</td>\n",
       "      <td>0.0</td>\n",
       "      <td>0.0</td>\n",
       "      <td>359998.0</td>\n",
       "      <td>0.001114</td>\n",
       "      <td>1.195375</td>\n",
       "      <td>2.102954</td>\n",
       "      <td>2.102847</td>\n",
       "      <td>periodic 10min</td>\n",
       "    </tr>\n",
       "    <tr>\n",
       "      <th>4679998</th>\n",
       "      <td>99.999444</td>\n",
       "      <td>252237.468926</td>\n",
       "      <td>0.0</td>\n",
       "      <td>0.001123</td>\n",
       "      <td>1.062500e-04</td>\n",
       "      <td>1.062500e-04</td>\n",
       "      <td>0.0</td>\n",
       "      <td>0.0</td>\n",
       "      <td>0.0</td>\n",
       "      <td>0.0</td>\n",
       "      <td>359999.0</td>\n",
       "      <td>0.001123</td>\n",
       "      <td>1.204461</td>\n",
       "      <td>2.105679</td>\n",
       "      <td>2.105573</td>\n",
       "      <td>periodic 10min</td>\n",
       "    </tr>\n",
       "    <tr>\n",
       "      <th>4679999</th>\n",
       "      <td>99.999722</td>\n",
       "      <td>254436.029710</td>\n",
       "      <td>0.0</td>\n",
       "      <td>0.001131</td>\n",
       "      <td>1.062503e-04</td>\n",
       "      <td>1.062503e-04</td>\n",
       "      <td>0.0</td>\n",
       "      <td>0.0</td>\n",
       "      <td>0.0</td>\n",
       "      <td>0.0</td>\n",
       "      <td>360000.0</td>\n",
       "      <td>0.001131</td>\n",
       "      <td>1.213528</td>\n",
       "      <td>2.108395</td>\n",
       "      <td>2.108289</td>\n",
       "      <td>periodic 10min</td>\n",
       "    </tr>\n",
       "  </tbody>\n",
       "</table>\n",
       "<p>4680000 rows × 16 columns</p>\n",
       "</div>"
      ],
      "text/plain": [
       "            time_h   power_signal  curtailment   kg_rate   stack_1_deg  \\\n",
       "0         0.000000   93321.756952          0.0  0.000000  0.000000e+00   \n",
       "1         0.000278   93321.756952          0.0  0.000000  2.650061e-10   \n",
       "2         0.000556   93321.756952          0.0  0.000000  5.300121e-10   \n",
       "3         0.000833   93321.756952          0.0  0.000000  7.950182e-10   \n",
       "4         0.001111   93321.756952          0.0  0.000000  1.060024e-09   \n",
       "...            ...            ...          ...       ...           ...   \n",
       "4679995  99.998611  245645.643994          0.0  0.001096  1.062492e-04   \n",
       "4679996  99.998889  247842.035063          0.0  0.001105  1.062495e-04   \n",
       "4679997  99.999167  250039.390363          0.0  0.001114  1.062497e-04   \n",
       "4679998  99.999444  252237.468926          0.0  0.001123  1.062500e-04   \n",
       "4679999  99.999722  254436.029710          0.0  0.001131  1.062503e-04   \n",
       "\n",
       "         stack_1_deg_steady  stack_1_deg_fatigue  stack_1_deg_onoff  \\\n",
       "0              0.000000e+00                  0.0                0.0   \n",
       "1              2.650061e-10                  0.0                0.0   \n",
       "2              5.300121e-10                  0.0                0.0   \n",
       "3              7.950182e-10                  0.0                0.0   \n",
       "4              1.060024e-09                  0.0                0.0   \n",
       "...                     ...                  ...                ...   \n",
       "4679995        1.062492e-04                  0.0                0.0   \n",
       "4679996        1.062495e-04                  0.0                0.0   \n",
       "4679997        1.062497e-04                  0.0                0.0   \n",
       "4679998        1.062500e-04                  0.0                0.0   \n",
       "4679999        1.062503e-04                  0.0                0.0   \n",
       "\n",
       "         stack_1_fatigue  stack_1_cycles  stack_1_uptime  stack_1_kg_rate  \\\n",
       "0                    0.0             0.0             1.0         0.000000   \n",
       "1                    0.0             0.0             2.0         0.000000   \n",
       "2                    0.0             0.0             3.0         0.000000   \n",
       "3                    0.0             0.0             4.0         0.000000   \n",
       "4                    0.0             0.0             5.0         0.000000   \n",
       "...                  ...             ...             ...              ...   \n",
       "4679995              0.0             0.0        359996.0         0.001096   \n",
       "4679996              0.0             0.0        359997.0         0.001105   \n",
       "4679997              0.0             0.0        359998.0         0.001114   \n",
       "4679998              0.0             0.0        359999.0         0.001123   \n",
       "4679999              0.0             0.0        360000.0         0.001131   \n",
       "\n",
       "         stack_1_curr_density  stack_1_cell_voltage  \\\n",
       "0                    0.490693              1.869690   \n",
       "1                    0.490693              1.869690   \n",
       "2                    0.490693              1.869690   \n",
       "3                    0.490693              1.869690   \n",
       "4                    0.490693              1.869690   \n",
       "...                       ...                   ...   \n",
       "4679995              1.177146              2.097472   \n",
       "4679996              1.186270              2.100218   \n",
       "4679997              1.195375              2.102954   \n",
       "4679998              1.204461              2.105679   \n",
       "4679999              1.213528              2.108395   \n",
       "\n",
       "         stack_1_cell_voltage_no_degrad            name  \n",
       "0                              1.869690  const prel 0.2  \n",
       "1                              1.869690  const prel 0.2  \n",
       "2                              1.869690  const prel 0.2  \n",
       "3                              1.869690  const prel 0.2  \n",
       "4                              1.869690  const prel 0.2  \n",
       "...                                 ...             ...  \n",
       "4679995                        2.097366  periodic 10min  \n",
       "4679996                        2.100112  periodic 10min  \n",
       "4679997                        2.102847  periodic 10min  \n",
       "4679998                        2.105573  periodic 10min  \n",
       "4679999                        2.108289  periodic 10min  \n",
       "\n",
       "[4680000 rows x 16 columns]"
      ]
     },
     "execution_count": 18,
     "metadata": {},
     "output_type": "execute_result"
    }
   ],
   "source": [
    "result_df"
   ]
  },
  {
   "cell_type": "code",
   "execution_count": 23,
   "id": "d7fbb094-bdaf-46f1-97ae-610d825af7c2",
   "metadata": {},
   "outputs": [
    {
     "data": {
      "text/html": [
       "\n",
       "        <iframe\n",
       "            width=\"100%\"\n",
       "            height=\"468\"\n",
       "            src=\"http://127.0.0.1:8050/\"\n",
       "            frameborder=\"0\"\n",
       "            allowfullscreen\n",
       "            \n",
       "        ></iframe>\n",
       "        "
      ],
      "text/plain": [
       "<IPython.lib.display.IFrame at 0x1c59ccf0590>"
      ]
     },
     "metadata": {},
     "output_type": "display_data"
    }
   ],
   "source": [
    "fig = FigureResampler(go.Figure())\n",
    "for n,df in result_df.groupby(\"name\"):\n",
    "    fig.add_trace(go.Scattergl(name=f'{n} i', showlegend=True), hf_x=df.time_h, hf_y=df[\"stack_1_curr_density\"])\n",
    "    #fig.add_trace(go.Scattergl(name=f'{n}', showlegend=True), hf_x=df.time_h, hf_y=df[\"stack_1_deg\"])\n",
    "\n",
    "fig.show_dash(mode='inline')"
   ]
  },
  {
   "cell_type": "code",
   "execution_count": null,
   "id": "d4799ef7-5f60-4184-9ef8-7ee180f2d976",
   "metadata": {},
   "outputs": [],
   "source": []
  },
  {
   "cell_type": "code",
   "execution_count": null,
   "id": "d6081157-3f76-4b03-ab6d-db769f437c3f",
   "metadata": {},
   "outputs": [],
   "source": []
  },
  {
   "cell_type": "code",
   "execution_count": 20,
   "id": "f8896edd-b0f6-43e3-9124-2141cd97f0ea",
   "metadata": {},
   "outputs": [],
   "source": [
    "# LST - like steps"
   ]
  },
  {
   "cell_type": "code",
   "execution_count": 21,
   "id": "1347cda9-70c3-458e-a743-850805106dd8",
   "metadata": {},
   "outputs": [],
   "source": [
    "# Weather based operation"
   ]
  },
  {
   "cell_type": "code",
   "execution_count": null,
   "id": "26dd1950-f449-4e78-9b5d-6f970b67ae69",
   "metadata": {},
   "outputs": [],
   "source": []
  }
 ],
 "metadata": {
  "kernelspec": {
   "display_name": "Python 3 (ipykernel)",
   "language": "python",
   "name": "python3"
  },
  "language_info": {
   "codemirror_mode": {
    "name": "ipython",
    "version": 3
   },
   "file_extension": ".py",
   "mimetype": "text/x-python",
   "name": "python",
   "nbconvert_exporter": "python",
   "pygments_lexer": "ipython3",
   "version": "3.11.9"
  }
 },
 "nbformat": 4,
 "nbformat_minor": 5
}
